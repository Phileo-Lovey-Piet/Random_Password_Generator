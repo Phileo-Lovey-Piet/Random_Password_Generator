{
 "cells": [
  {
   "cell_type": "code",
   "execution_count": 78,
   "metadata": {},
   "outputs": [],
   "source": [
    "import random, string\n",
    "\n",
    "def PasswrdGen(num):\n",
    "    password = ''\n",
    "        \n",
    "    for i in range(num):\n",
    "        dot = random.randint(0, 84)\n",
    "        password += string.printable[dot]\n",
    "        \n",
    "    \n",
    "    return \"This is your password: \", password\n",
    "\n",
    "PasswrdGen(8)"
   ]
  },
  {
   "cell_type": "code",
   "execution_count": 77,
   "metadata": {},
   "outputs": [],
   "source": [
    "import random, string\n",
    "\n",
    "def main():\n",
    "    password = ''\n",
    "    \n",
    "    for i in range(8):\n",
    "        dot = random.randint(0, 84)\n",
    "        password += string.printable[dot]\n",
    "        \n",
    "    print(\"This is your password: \", password)\n",
    "    \n",
    "if __name__ == '__main__':\n",
    "    main()\n",
    "    "
   ]
  },
  {
   "cell_type": "code",
   "execution_count": null,
   "metadata": {},
   "outputs": [],
   "source": []
  },
  {
   "cell_type": "code",
   "execution_count": null,
   "metadata": {},
   "outputs": [],
   "source": []
  },
  {
   "cell_type": "code",
   "execution_count": null,
   "metadata": {},
   "outputs": [],
   "source": []
  }
 ],
 "metadata": {
  "kernelspec": {
   "display_name": "Python 3",
   "language": "python",
   "name": "python3"
  },
  "language_info": {
   "codemirror_mode": {
    "name": "ipython",
    "version": 3
   },
   "file_extension": ".py",
   "mimetype": "text/x-python",
   "name": "python",
   "nbconvert_exporter": "python",
   "pygments_lexer": "ipython3",
   "version": "3.7.6"
  }
 },
 "nbformat": 4,
 "nbformat_minor": 4
}
